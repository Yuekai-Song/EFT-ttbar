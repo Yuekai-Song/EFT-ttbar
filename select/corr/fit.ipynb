{
 "cells": [
  {
   "cell_type": "code",
   "execution_count": 1,
   "metadata": {},
   "outputs": [
    {
     "name": "stdout",
     "output_type": "stream",
     "text": [
      "Welcome to JupyROOT 6.26/14\n"
     ]
    }
   ],
   "source": [
    "import ROOT\n",
    "import array\n",
    "import math"
   ]
  },
  {
   "cell_type": "code",
   "execution_count": 2,
   "metadata": {},
   "outputs": [],
   "source": [
    "canvas = ROOT.TCanvas(\"canvas\", \"Fit with Quadratic Polynomial\")"
   ]
  },
  {
   "cell_type": "code",
   "execution_count": 3,
   "metadata": {},
   "outputs": [
    {
     "name": "stdout",
     "output_type": "stream",
     "text": [
      "0.49171158552965094\n"
     ]
    }
   ],
   "source": [
    "def test_func(x, par):\n",
    "    # 参数par[0]和par[1]表示子函数的参数\n",
    "    # 参数par[2]表示分段的阈值\n",
    "    x0 = 1.8\n",
    "    x1 = 0.8\n",
    "    if x[0] <= x0 and x[0] >= x1:\n",
    "        return par[0] + par[1]*x[0]\n",
    "    elif x[0] > x0:\n",
    "        return test_func([x0], par)\n",
    "    else:\n",
    "        return test_func([x1], par)\n",
    "testFunc = ROOT.TF1(\"testFunc\", test_func, 0.7, 1000.0, 2)\n",
    "#fit_func = ROOT.TF1(\"fitFunc\", \"[0] + [1]*x\", 0.7, 1000.0, 2)\n",
    "testFunc.SetParameters(0.49171158552965094, 0.38058385932856637)   \n",
    "new_file = ROOT.TFile(\"test.root\", \"recreate\")\n",
    "new_file.cd()\n",
    "testFunc.Write()\n",
    "print(testFunc.GetParameter(0))\n",
    "new_file.Close()"
   ]
  },
  {
   "cell_type": "code",
   "execution_count": 4,
   "metadata": {},
   "outputs": [],
   "source": [
    "def piecewise_function(x, par):\n",
    "    # 参数par[0]和par[1]表示子函数的参数\n",
    "    # 参数par[2]表示分段的阈值\n",
    "    x0 = 1.8\n",
    "    x1 = 0.8\n",
    "    if x[0] <= x0 and x[0] >= x1:\n",
    "        return par[0] + par[1]*x[0] + par[2]*x[0]*x[0] + par[3]*x[0]*x[0]*x[0] + par[4]*x[0]*x[0]*x[0]*x[0]\n",
    "    elif x[0] > x0:\n",
    "        return piecewise_function([x0], par)\n",
    "    else:\n",
    "        return piecewise_function([x1], par)"
   ]
  },
  {
   "cell_type": "code",
   "execution_count": 5,
   "metadata": {},
   "outputs": [
    {
     "name": "stdout",
     "output_type": "stream",
     "text": [
      "Fit Parameters:\n",
      "  Parameter 0: 0.5235067291518515\n",
      "  Parameter 1: 0.3606178274103838\n",
      "  Parameter 2: 0.14357419574163988\n",
      "  Parameter 3: 0.012701540952136032\n",
      "  Parameter 4: -0.03754416763827526\n",
      "1.3177509453267544\n",
      "Fit Parameters:\n",
      "  Parameter 0: 0.4836506130291355\n",
      "  Parameter 1: 0.3883019808123417\n",
      "  Parameter 2: 0.1654357362215207\n",
      "  Parameter 3: 0.013872340181806437\n",
      "  Parameter 4: -0.049296941555807376\n",
      "1.2820098781131293\n",
      "Fit Parameters:\n",
      "  Parameter 0: 0.49676784670178586\n",
      "  Parameter 1: 0.3798963562016148\n",
      "  Parameter 2: 0.15834804411986303\n",
      "  Parameter 3: 0.013113737701965075\n",
      "  Parameter 4: -0.04592376601115211\n",
      "1.2880189430122386\n",
      "Fit Parameters:\n",
      "  Parameter 0: 0.5219946725490094\n",
      "  Parameter 1: 0.363744426281943\n",
      "  Parameter 2: 0.14486656475517204\n",
      "  Parameter 3: 0.011652292334700248\n",
      "  Parameter 4: -0.03973052916701298\n",
      "1.2969832755756006\n",
      "\n",
      "****************************************\n",
      "Minimizer is Minuit / Migrad\n",
      "Chi2                      =   0.00291487\n",
      "NDf                       =           15\n",
      "Edm                       =  4.68574e-06\n",
      "NCalls                    =          123\n",
      "p0                        =     0.523507   +/-   0.0214618   \n",
      "p1                        =     0.360618   +/-   0.0252862   \n",
      "p2                        =     0.143574   +/-   0.0166272   \n",
      "p3                        =    0.0127015   +/-   0.0100941   \n",
      "p4                        =   -0.0375442   +/-   0.0045262   \n",
      "\n",
      "****************************************\n",
      "Minimizer is Minuit / Migrad\n",
      "Chi2                      =    0.0028602\n",
      "NDf                       =           15\n",
      "Edm                       =  2.24405e-08\n",
      "NCalls                    =          123\n",
      "p0                        =     0.483651   +/-   0.0212595   \n",
      "p1                        =     0.388302   +/-   0.0250479   \n",
      "p2                        =     0.165436   +/-   0.0164706   \n",
      "p3                        =    0.0138723   +/-   0.00999899  \n",
      "p4                        =   -0.0492969   +/-   0.00448355  \n",
      "\n",
      "****************************************\n",
      "Minimizer is Minuit / Migrad\n",
      "Chi2                      =    0.0010561\n",
      "NDf                       =           15\n",
      "Edm                       =   7.0851e-07\n",
      "NCalls                    =          123\n",
      "p0                        =     0.496768   +/-   0.0129184   \n",
      "p1                        =     0.379896   +/-   0.0152204   \n",
      "p2                        =     0.158348   +/-   0.0100084   \n",
      "p3                        =    0.0131137   +/-   0.00607589  \n",
      "p4                        =   -0.0459238   +/-   0.00272443  \n",
      "\n",
      "****************************************\n",
      "Minimizer is Minuit / Migrad\n",
      "Chi2                      =   0.00203044\n",
      "NDf                       =           15\n",
      "Edm                       =  3.91963e-06\n",
      "NCalls                    =          123\n",
      "p0                        =     0.521995   +/-   0.0179122   \n",
      "p1                        =     0.363744   +/-   0.0211042   \n",
      "p2                        =     0.144867   +/-   0.0138773   \n",
      "p3                        =    0.0116523   +/-   0.00842466  \n",
      "p4                        =   -0.0397305   +/-   0.00377762  \n"
     ]
    },
    {
     "data": {
      "image/png": "[encoded data removed]",
      "text/plain": [
       "<IPython.core.display.Image object>"
      ]
     },
     "metadata": {},
     "output_type": "display_data"
    }
   ],
   "source": [
    "for year in [2015, 2016, 2017, 2018]:\n",
    "    file = ROOT.TFile.Open(\"corr_%d.root\" % year)\n",
    "    h1 = file.Get(\"ecorr_vs_rm\")\n",
    "    h1.Smooth()\n",
    "    xs = array.array(\"d\")\n",
    "    ys = array.array(\"d\")\n",
    "    num = 20\n",
    "    for i in range(0, num):\n",
    "        x = 0.85 + i * (2.05 - 0.85) / num\n",
    "        ymax = 0\n",
    "        xs.append(x)\n",
    "        binx = h1.GetXaxis().FindBin(x)\n",
    "        for j in range(0, h1.GetNbinsY() + 1):\n",
    "            if h1.GetBinContent(binx, j) > ymax:\n",
    "                ymax = h1.GetBinContent(binx, j)\n",
    "                y = h1.GetYaxis().GetBinCenter(j)\n",
    "        ys.append(y)\n",
    "    graph = ROOT.TGraph(len(xs), xs, ys)\n",
    "    #fit_func = ROOT.TF1(\"fitFunc\", \"[0] + [1]*x + [2]*x*x + [3]*x*x*x + [4]*x*x*x*x\", 0.8, 1.9)\n",
    "    fit_func = ROOT.TF1(\"fitFunc\", piecewise_function, 0.7, 2.0, 5)\n",
    "    func = ROOT.TF1(\"Func\", \"[0] + [1]*x + [2]*x*x + [3]*x*x*x + [4]*x*x*x*x\", 0.8, 1.8)\n",
    "    #fit_func.SetParameters(/*initial parameters*/)\n",
    "    graph.Fit(fit_func, \"R\")\n",
    "    #fit_func.SetRange(0.8, 1.2)\n",
    "    canvas.Clear()\n",
    "    canvas.cd()\n",
    "    graph.Draw(\"AP\")\n",
    "    graph.SetMarkerSize(0.4)\n",
    "    graph.SetMarkerStyle(8)\n",
    "\n",
    "    fit_func.Draw(\"same\")\n",
    "    #fit_func.SetRange(0.8, 2.2)\n",
    "    canvas.Draw()\n",
    "\n",
    "    print(\"Fit Parameters:\")\n",
    "    for i in range(fit_func.GetNpar()):\n",
    "        print(f\"  Parameter {i}: {fit_func.GetParameter(i)}\")\n",
    "    print(fit_func(5))\n",
    "    \n",
    "    for i in range(0, 5):\n",
    "        func.SetParameter(i, fit_func.GetParameter(i))\n",
    "    new_file = ROOT.TFile(\"./tf/tf_%d.root\" % year, \"recreate\")\n",
    "    new_file.cd()\n",
    "    func.Write()\n",
    "    new_file.Close()"
   ]
  },
  {
   "cell_type": "code",
   "execution_count": 45,
   "metadata": {},
   "outputs": [
    {
     "data": {
      "text/plain": [
       "False"
      ]
     },
     "execution_count": 45,
     "metadata": {},
     "output_type": "execute_result"
    }
   ],
   "source": [
    "fit_func(1.9) == func(1.9)"
   ]
  }
 ],
 "metadata": {
  "kernelspec": {
   "display_name": "Python 3",
   "language": "python",
   "name": "python3"
  },
  "language_info": {
   "codemirror_mode": {
    "name": "ipython",
    "version": 3
   },
   "file_extension": ".py",
   "mimetype": "text/x-python",
   "name": "python",
   "nbconvert_exporter": "python",
   "pygments_lexer": "ipython3",
   "version": "3.10.12"
  }
 },
 "nbformat": 4,
 "nbformat_minor": 2
}
