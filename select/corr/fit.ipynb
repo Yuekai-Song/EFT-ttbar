{
 "cells": [
  {
   "cell_type": "code",
   "execution_count": 1,
   "metadata": {},
   "outputs": [
    {
     "name": "stdout",
     "output_type": "stream",
     "text": [
      "Welcome to JupyROOT 6.24/04\n"
     ]
    }
   ],
   "source": [
    "import ROOT\n",
    "import array\n",
    "import math"
   ]
  },
  {
   "cell_type": "code",
   "execution_count": 2,
   "metadata": {},
   "outputs": [],
   "source": [
    "canvas = ROOT.TCanvas(\"canvas\", \"Fit with Quadratic Polynomial\")"
   ]
  },
  {
   "cell_type": "code",
   "execution_count": 3,
   "metadata": {},
   "outputs": [
    {
     "name": "stdout",
     "output_type": "stream",
     "text": [
      "0.49171158552965094\n"
     ]
    }
   ],
   "source": [
    "def test_func(x, par):\n",
    "    # 参数par[0]和par[1]表示子函数的参数\n",
    "    # 参数par[2]表示分段的阈值\n",
    "    x0 = 1.8\n",
    "    x1 = 0.8\n",
    "    if x[0] <= x0 and x[0] >= x1:\n",
    "        return par[0] + par[1]*x[0]\n",
    "    elif x[0] > x0:\n",
    "        return test_func([x0], par)\n",
    "    else:\n",
    "        return test_func([x1], par)\n",
    "testFunc = ROOT.TF1(\"testFunc\", test_func, 0.7, 1000.0, 2)\n",
    "#fit_func = ROOT.TF1(\"fitFunc\", \"[0] + [1]*x\", 0.7, 1000.0, 2)\n",
    "testFunc.SetParameters(0.49171158552965094, 0.38058385932856637)   \n",
    "new_file = ROOT.TFile(\"test.root\", \"recreate\")\n",
    "new_file.cd()\n",
    "testFunc.Write()\n",
    "print(testFunc.GetParameter(0))\n",
    "new_file.Close()"
   ]
  },
  {
   "cell_type": "code",
   "execution_count": 4,
   "metadata": {},
   "outputs": [],
   "source": [
    "def piecewise_function(x, par):\n",
    "    # 参数par[0]和par[1]表示子函数的参数\n",
    "    # 参数par[2]表示分段的阈值\n",
    "    x0 = 1.8\n",
    "    x1 = 0.8\n",
    "    if x[0] <= x0 and x[0] >= x1:\n",
    "        return par[0] + par[1]*x[0] + par[2]*x[0]*x[0] + par[3]*x[0]*x[0]*x[0] + par[4]*x[0]*x[0]*x[0]*x[0]\n",
    "    elif x[0] > x0:\n",
    "        return piecewise_function([x0], par)\n",
    "    else:\n",
    "        return piecewise_function([x1], par)"
   ]
  },
  {
   "cell_type": "code",
   "execution_count": 5,
   "metadata": {},
   "outputs": [
    {
     "name": "stdout",
     "output_type": "stream",
     "text": [
      "Fit Parameters:\n",
      "  Parameter 0: 0.5241709596214722\n",
      "  Parameter 1: 0.3634399309927536\n",
      "  Parameter 2: 0.14605462571366518\n",
      "  Parameter 3: 0.012876831007350029\n",
      "  Parameter 4: -0.039346344027567745\n",
      "1.313635320091774\n",
      "Fit Parameters:\n",
      "  Parameter 0: 0.4884006105314601\n",
      "  Parameter 1: 0.38554387047248073\n",
      "  Parameter 2: 0.1627054156916773\n",
      "  Parameter 3: 0.013680661287275214\n",
      "  Parameter 4: -0.0474823261782039\n",
      "1.2908802735620357\n",
      "Fit Parameters:\n",
      "  Parameter 0: 0.489332714907187\n",
      "  Parameter 1: 0.38503183535561136\n",
      "  Parameter 2: 0.16237560052481032\n",
      "  Parameter 3: 0.013381386252527027\n",
      "  Parameter 4: -0.047949035663952935\n",
      "1.2831774120864985\n",
      "Fit Parameters:\n",
      "  Parameter 0: 0.5039505289579321\n",
      "  Parameter 1: 0.37360842612101497\n",
      "  Parameter 2: 0.15433132809743338\n",
      "  Parameter 3: 0.01342616477645439\n",
      "  Parameter 4: -0.04339819637193364\n",
      "1.2992036857537146\n",
      "\n",
      "****************************************\n",
      "Minimizer is Minuit / Migrad\n",
      "Chi2                      =   0.00238555\n",
      "NDf                       =           15\n",
      "Edm                       =  1.16781e-06\n",
      "NCalls                    =          123\n",
      "p0                        =     0.524171   +/-   0.0194155   \n",
      "p1                        =      0.36344   +/-   0.0228754   \n",
      "p2                        =     0.146055   +/-   0.015042    \n",
      "p3                        =    0.0128768   +/-   0.00913171  \n",
      "p4                        =   -0.0393463   +/-   0.00409466  \n",
      "\n",
      "****************************************\n",
      "Minimizer is Minuit / Migrad\n",
      "Chi2                      =   0.00187227\n",
      "NDf                       =           15\n",
      "Edm                       =  7.65632e-07\n",
      "NCalls                    =          123\n",
      "p0                        =     0.488401   +/-   0.0172004   \n",
      "p1                        =     0.385544   +/-   0.0202655   \n",
      "p2                        =     0.162705   +/-   0.0133258   \n",
      "p3                        =    0.0136807   +/-   0.00808988  \n",
      "p4                        =   -0.0474823   +/-   0.0036275   \n",
      "\n",
      "****************************************\n",
      "Minimizer is Minuit / Migrad\n",
      "Chi2                      =   0.00158634\n",
      "NDf                       =           15\n",
      "Edm                       =  3.08518e-07\n",
      "NCalls                    =          123\n",
      "p0                        =     0.489333   +/-   0.0158327   \n",
      "p1                        =     0.385032   +/-   0.018654    \n",
      "p2                        =     0.162376   +/-   0.0122662   \n",
      "p3                        =    0.0133814   +/-   0.00744657  \n",
      "p4                        =    -0.047949   +/-   0.00333905  \n",
      "\n",
      "****************************************\n",
      "Minimizer is Minuit / Migrad\n",
      "Chi2                      =   0.00184259\n",
      "NDf                       =           15\n",
      "Edm                       =  7.08226e-07\n",
      "NCalls                    =          123\n",
      "p0                        =     0.503951   +/-   0.0170636   \n",
      "p1                        =     0.373608   +/-   0.0201043   \n",
      "p2                        =     0.154331   +/-   0.0132198   \n",
      "p3                        =    0.0134262   +/-   0.0080255   \n",
      "p4                        =   -0.0433982   +/-   0.00359864  \n"
     ]
    },
    {
     "data": {
      "image/png": "[encoded data removed]",
      "text/plain": [
       "<IPython.core.display.Image object>"
      ]
     },
     "metadata": {},
     "output_type": "display_data"
    }
   ],
   "source": [
    "for year in [2015, 2016, 2017, 2018]:\n",
    "    file = ROOT.TFile.Open(\"corr_%d.root\" % year)\n",
    "    h1 = file.Get(\"ecorr_vs_rm_ttx_like_jet_cut\")\n",
    "    h1.Smooth()\n",
    "    xs = array.array(\"d\")\n",
    "    ys = array.array(\"d\")\n",
    "    num = 20\n",
    "    for i in range(0, num):\n",
    "        x = 0.85 + i * (2.05 - 0.85) / num\n",
    "        ymax = 0\n",
    "        xs.append(x)\n",
    "        binx = h1.GetXaxis().FindBin(x)\n",
    "        for j in range(0, h1.GetNbinsY() + 1):\n",
    "            if h1.GetBinContent(binx, j) > ymax:\n",
    "                ymax = h1.GetBinContent(binx, j)\n",
    "                y = h1.GetYaxis().GetBinCenter(j)\n",
    "        ys.append(y)\n",
    "    graph = ROOT.TGraph(len(xs), xs, ys)\n",
    "    #fit_func = ROOT.TF1(\"fitFunc\", \"[0] + [1]*x + [2]*x*x + [3]*x*x*x + [4]*x*x*x*x\", 0.8, 1.9)\n",
    "    fit_func = ROOT.TF1(\"fitFunc\", piecewise_function, 0.7, 2.0, 5)\n",
    "    func = ROOT.TF1(\"Func\", \"[0] + [1]*x + [2]*x*x + [3]*x*x*x + [4]*x*x*x*x\", 0.8, 1.8)\n",
    "    #fit_func.SetParameters(/*initial parameters*/)\n",
    "    graph.Fit(fit_func, \"R\")\n",
    "    #fit_func.SetRange(0.8, 1.2)\n",
    "    canvas.Clear()\n",
    "    canvas.cd()\n",
    "    graph.Draw(\"AP\")\n",
    "    graph.SetMarkerSize(0.4)\n",
    "    graph.SetMarkerStyle(8)\n",
    "\n",
    "    fit_func.Draw(\"same\")\n",
    "    #fit_func.SetRange(0.8, 2.2)\n",
    "    canvas.Draw()\n",
    "\n",
    "    print(\"Fit Parameters:\")\n",
    "    for i in range(fit_func.GetNpar()):\n",
    "        print(f\"  Parameter {i}: {fit_func.GetParameter(i)}\")\n",
    "    print(fit_func(5))\n",
    "    \n",
    "    for i in range(0, 5):\n",
    "        func.SetParameter(i, fit_func.GetParameter(i))\n",
    "    new_file = ROOT.TFile(\"tf_%d.root\" % year, \"recreate\")\n",
    "    new_file.cd()\n",
    "    func.Write()\n",
    "    new_file.Close()"
   ]
  },
  {
   "cell_type": "code",
   "execution_count": 45,
   "metadata": {},
   "outputs": [
    {
     "data": {
      "text/plain": [
       "False"
      ]
     },
     "execution_count": 45,
     "metadata": {},
     "output_type": "execute_result"
    }
   ],
   "source": [
    "fit_func(1.9) == func(1.9)"
   ]
  }
 ],
 "metadata": {
  "kernelspec": {
   "display_name": "Python 3",
   "language": "python",
   "name": "python3"
  },
  "language_info": {
   "codemirror_mode": {
    "name": "ipython",
    "version": 3
   },
   "file_extension": ".py",
   "mimetype": "text/x-python",
   "name": "python",
   "nbconvert_exporter": "python",
   "pygments_lexer": "ipython3",
   "version": "3.8.10"
  }
 },
 "nbformat": 4,
 "nbformat_minor": 2
}
